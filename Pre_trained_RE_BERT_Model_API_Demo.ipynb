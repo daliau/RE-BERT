{
  "nbformat": 4,
  "nbformat_minor": 0,
  "metadata": {
    "colab": {
      "name": "Pre-trained RE-BERT Model - API Demo.ipynb",
      "provenance": [],
      "collapsed_sections": [],
      "toc_visible": true
    },
    "kernelspec": {
      "name": "python3",
      "display_name": "Python 3"
    },
    "accelerator": "GPU"
  },
  "cells": [
    {
      "cell_type": "markdown",
      "metadata": {
        "id": "d7F24wi-bXEG"
      },
      "source": [
        "# Download Pre-trained RE-BERT Model\r\n",
        "* This is a ready-to-use model trained with eight app review datasets."
      ]
    },
    {
      "cell_type": "code",
      "metadata": {
        "colab": {
          "base_uri": "https://localhost:8080/"
        },
        "id": "bakFmMM2JGR3",
        "outputId": "d17f0747-b79a-4d92-c239-cb5a7b50eca4"
      },
      "source": [
        "!gdown https://drive.google.com/uc?id=1-5v7gCPWaKKBtJVu0KZwvlDyEia40crr"
      ],
      "execution_count": 1,
      "outputs": [
        {
          "output_type": "stream",
          "text": [
            "Downloading...\n",
            "From: https://drive.google.com/uc?id=1-5v7gCPWaKKBtJVu0KZwvlDyEia40crr\n",
            "To: /content/demo_api_8apps_v1.model\n",
            "455MB [00:02, 196MB/s]\n"
          ],
          "name": "stdout"
        }
      ]
    },
    {
      "cell_type": "markdown",
      "metadata": {
        "id": "qB-cgVUUSmNl"
      },
      "source": [
        "# Cloning RE-BERT repository"
      ]
    },
    {
      "cell_type": "code",
      "metadata": {
        "id": "YBmt7OX0PSix",
        "colab": {
          "base_uri": "https://localhost:8080/"
        },
        "outputId": "c3325fe8-1ff9-496b-9907-bc078a578c8d"
      },
      "source": [
        "!git clone https://github.com/adailtonaraujo/RE-BERT\n",
        "!mv RE-BERT/* ."
      ],
      "execution_count": 2,
      "outputs": [
        {
          "output_type": "stream",
          "text": [
            "Cloning into 'RE-BERT'...\n",
            "remote: Enumerating objects: 78, done.\u001b[K\n",
            "remote: Counting objects: 100% (78/78), done.\u001b[K\n",
            "remote: Compressing objects: 100% (65/65), done.\u001b[K\n",
            "remote: Total 78 (delta 25), reused 48 (delta 11), pack-reused 0\u001b[K\n",
            "Unpacking objects: 100% (78/78), done.\n"
          ],
          "name": "stdout"
        }
      ]
    },
    {
      "cell_type": "markdown",
      "metadata": {
        "id": "xwDbUl_4mK67"
      },
      "source": [
        "# Install dependencies"
      ]
    },
    {
      "cell_type": "code",
      "metadata": {
        "id": "TriRyWUlW650"
      },
      "source": [
        "!pip install -r requirements.txt"
      ],
      "execution_count": null,
      "outputs": []
    },
    {
      "cell_type": "markdown",
      "metadata": {
        "id": "c27WbNtJaL6_"
      },
      "source": [
        "# Loading RE-BERT Model"
      ]
    },
    {
      "cell_type": "code",
      "metadata": {
        "id": "Wam3PqGvVzpt",
        "colab": {
          "base_uri": "https://localhost:8080/"
        },
        "outputId": "6d912780-c55f-4667-df62-020909816e6a"
      },
      "source": [
        "\r\n",
        "from re_bert_demo import re_bert_model\r\n",
        "from re_bert_demo import extract\r\n",
        "import numpy as np\r\n",
        "\r\n",
        "options = ['--classifier_model_file','demo_api_8apps_v1.model']\r\n",
        "model = re_bert_model(options)"
      ],
      "execution_count": 4,
      "outputs": [
        {
          "output_type": "stream",
          "text": [
            "[nltk_data] Downloading package punkt to /root/nltk_data...\n",
            "[nltk_data]   Unzipping tokenizers/punkt.zip.\n",
            "loading model RE_BERT ...\n"
          ],
          "name": "stdout"
        }
      ]
    },
    {
      "cell_type": "markdown",
      "metadata": {
        "id": "3eIA72_-onEU"
      },
      "source": [
        "# Usage example 1\r\n",
        "\r\n",
        "* Review:\r\n",
        "> I use the app to apply filters to my photos and it's really fun."
      ]
    },
    {
      "cell_type": "code",
      "metadata": {
        "colab": {
          "base_uri": "https://localhost:8080/"
        },
        "id": "vwk_jjopk8xT",
        "outputId": "ddec1dab-789c-42f5-c93c-2d7446f66b70"
      },
      "source": [
        "review = \"I use the app to apply filters to my photos and it's really fun.\"\r\n",
        "predictions,requirements_extracted = extract(model,review)\r\n",
        "\r\n",
        "\r\n",
        "print('\\n\\nReview: ',review)\r\n",
        "print('Software Requirements Extracted (in each sentence):',requirements_extracted)\r\n",
        "\r\n",
        "for item in predictions:\r\n",
        "  sentence = item[0]\r\n",
        "  software_requirements = item[1]\r\n",
        "  iob_classification = item[2]\r\n",
        "  print('\\n\\nSentence:',sentence)\r\n",
        "  print('Software Requirements Tokens:',software_requirements)\r\n",
        "  for tokens_res in iob_classification:\r\n",
        "    token = tokens_res[0]\r\n",
        "    confidence = np.max(tokens_res[1]['confidences'])\r\n",
        "    iob_class = np.max(tokens_res[1]['iob'])\r\n",
        "    iob_tag = 'O'\r\n",
        "    if iob_class == 0: iob_tag='B'\r\n",
        "    if iob_class == 1: iob_tag='I'\r\n",
        "    print('Token [',token,'] is tag [',iob_tag,'] with',confidence,'confidence.')"
      ],
      "execution_count": 5,
      "outputs": [
        {
          "output_type": "stream",
          "text": [
            "Extract software requirements candidates: 100%|██████████| 1/1 [00:00<00:00,  1.68it/s]"
          ],
          "name": "stderr"
        },
        {
          "output_type": "stream",
          "text": [
            "\n",
            "\n",
            "Review:  I use the app to apply filters to my photos and it's really fun.\n",
            "Software Requirements Extracted (in each sentence): ['filters;my photos']\n",
            "\n",
            "\n",
            "Sentence: I use the app to apply filters to my photos and it's really fun.\n",
            "Software Requirements Tokens: ['filters', 'my', 'photos']\n",
            "Token [ I ] is tag [ O ] with 0.9931491 confidence.\n",
            "Token [ use ] is tag [ O ] with 0.99655616 confidence.\n",
            "Token [ the ] is tag [ O ] with 0.9950093 confidence.\n",
            "Token [ app ] is tag [ O ] with 0.99786866 confidence.\n",
            "Token [ to ] is tag [ O ] with 0.9819527 confidence.\n",
            "Token [ apply ] is tag [ O ] with 0.99565744 confidence.\n",
            "Token [ filters ] is tag [ B ] with 0.9494473 confidence.\n",
            "Token [ to ] is tag [ O ] with 0.9819527 confidence.\n",
            "Token [ my ] is tag [ I ] with 0.87882704 confidence.\n",
            "Token [ photos ] is tag [ I ] with 0.9809651 confidence.\n",
            "Token [ and ] is tag [ O ] with 0.9959636 confidence.\n",
            "Token [ it ] is tag [ O ] with 0.9980204 confidence.\n",
            "Token [ 's ] is tag [ O ] with 0.9980354 confidence.\n",
            "Token [ really ] is tag [ O ] with 0.9996358 confidence.\n",
            "Token [ fun ] is tag [ O ] with 0.99950397 confidence.\n",
            "Token [ . ] is tag [ O ] with 0.99938476 confidence.\n"
          ],
          "name": "stdout"
        },
        {
          "output_type": "stream",
          "text": [
            "\n"
          ],
          "name": "stderr"
        }
      ]
    },
    {
      "cell_type": "markdown",
      "metadata": {
        "id": "7s6Clg3eoxm2"
      },
      "source": [
        "# Usage example 2\r\n",
        "\r\n",
        "* Review:\r\n",
        "> I am trying to set up a business account and change my email address and I am having the most difficulty using your app its totally ridiculous! And another thing I am unable to see prices until driver has been found."
      ]
    },
    {
      "cell_type": "code",
      "metadata": {
        "colab": {
          "base_uri": "https://localhost:8080/"
        },
        "id": "MHRVTWE8nzLN",
        "outputId": "ca9e1322-3c71-46ad-ed8e-85a7a36aca9f"
      },
      "source": [
        "review = \"I am trying to set up a business account and change my email address and I am having the most difficulty using your app its totally ridiculous! And another thing I am unable to see prices until driver has been found.\"\r\n",
        "predictions,requirements_extracted = extract(model,review)\r\n",
        "\r\n",
        "\r\n",
        "print('\\n\\nReview: ',review)\r\n",
        "print('Software Requirements Extracted (in each sentence):',requirements_extracted)\r\n",
        "\r\n",
        "for item in predictions:\r\n",
        "  sentence = item[0]\r\n",
        "  software_requirements = item[1]\r\n",
        "  iob_classification = item[2]\r\n",
        "  print('\\n\\nSentence:',sentence)\r\n",
        "  print('Software Requirements Tokens:',software_requirements)\r\n",
        "  for tokens_res in iob_classification:\r\n",
        "    token = tokens_res[0]\r\n",
        "    confidence = np.max(tokens_res[1]['confidences'])\r\n",
        "    iob_class = np.max(tokens_res[1]['iob'])\r\n",
        "    iob_tag = 'O'\r\n",
        "    if iob_class == 0: iob_tag='B'\r\n",
        "    if iob_class == 1: iob_tag='I'\r\n",
        "    print('Token [',token,'] is tag [',iob_tag,'] with',confidence,'confidence.')"
      ],
      "execution_count": 6,
      "outputs": [
        {
          "output_type": "stream",
          "text": [
            "Extract software requirements candidates: 100%|██████████| 2/2 [00:01<00:00,  1.72it/s]"
          ],
          "name": "stderr"
        },
        {
          "output_type": "stream",
          "text": [
            "\n",
            "\n",
            "Review:  I am trying to set up a business account and change my email address and I am having the most difficulty using your app its totally ridiculous! And another thing I am unable to see prices until driver has been found.\n",
            "Software Requirements Extracted (in each sentence): ['up;business account;change my email address', 'see prices']\n",
            "\n",
            "\n",
            "Sentence: I am trying to set up a business account and change my email address and I am having the most difficulty using your app its totally ridiculous!\n",
            "Software Requirements Tokens: ['up', 'business', 'account', 'change', 'my', 'email', 'address']\n",
            "Token [ I ] is tag [ O ] with 0.93952286 confidence.\n",
            "Token [ am ] is tag [ O ] with 0.9886058 confidence.\n",
            "Token [ trying ] is tag [ O ] with 0.99090403 confidence.\n",
            "Token [ to ] is tag [ O ] with 0.9771086 confidence.\n",
            "Token [ set ] is tag [ O ] with 0.6529409 confidence.\n",
            "Token [ up ] is tag [ I ] with 0.7320296 confidence.\n",
            "Token [ a ] is tag [ O ] with 0.8555306 confidence.\n",
            "Token [ business ] is tag [ I ] with 0.9410975 confidence.\n",
            "Token [ account ] is tag [ I ] with 0.9938638 confidence.\n",
            "Token [ and ] is tag [ O ] with 0.8030552 confidence.\n",
            "Token [ change ] is tag [ I ] with 0.5424819 confidence.\n",
            "Token [ my ] is tag [ I ] with 0.9591564 confidence.\n",
            "Token [ email ] is tag [ I ] with 0.6736892 confidence.\n",
            "Token [ address ] is tag [ I ] with 0.96408856 confidence.\n",
            "Token [ and ] is tag [ O ] with 0.8030552 confidence.\n",
            "Token [ I ] is tag [ O ] with 0.93952286 confidence.\n",
            "Token [ am ] is tag [ O ] with 0.9886058 confidence.\n",
            "Token [ having ] is tag [ O ] with 0.9926077 confidence.\n",
            "Token [ the ] is tag [ O ] with 0.93838614 confidence.\n",
            "Token [ most ] is tag [ O ] with 0.9945322 confidence.\n",
            "Token [ difficulty ] is tag [ O ] with 0.9954059 confidence.\n",
            "Token [ using ] is tag [ O ] with 0.99673045 confidence.\n",
            "Token [ your ] is tag [ O ] with 0.89347434 confidence.\n",
            "Token [ app ] is tag [ O ] with 0.99781525 confidence.\n",
            "Token [ its ] is tag [ O ] with 0.99531674 confidence.\n",
            "Token [ totally ] is tag [ O ] with 0.99497753 confidence.\n",
            "Token [ ridiculous ] is tag [ O ] with 0.9966168 confidence.\n",
            "Token [ ! ] is tag [ O ] with 0.9971118 confidence.\n",
            "\n",
            "\n",
            "Sentence: And another thing I am unable to see prices until driver has been found.\n",
            "Software Requirements Tokens: ['see', 'prices']\n",
            "Token [ And ] is tag [ O ] with 0.9988279 confidence.\n",
            "Token [ another ] is tag [ O ] with 0.99792 confidence.\n",
            "Token [ thing ] is tag [ O ] with 0.9991015 confidence.\n",
            "Token [ I ] is tag [ O ] with 0.99924576 confidence.\n",
            "Token [ am ] is tag [ O ] with 0.9988047 confidence.\n",
            "Token [ unable ] is tag [ O ] with 0.9962655 confidence.\n",
            "Token [ to ] is tag [ O ] with 0.9954561 confidence.\n",
            "Token [ see ] is tag [ B ] with 0.8681868 confidence.\n",
            "Token [ prices ] is tag [ I ] with 0.9801446 confidence.\n",
            "Token [ until ] is tag [ O ] with 0.99432385 confidence.\n",
            "Token [ driver ] is tag [ O ] with 0.99550974 confidence.\n",
            "Token [ has ] is tag [ O ] with 0.99833375 confidence.\n",
            "Token [ been ] is tag [ O ] with 0.99855405 confidence.\n",
            "Token [ found ] is tag [ O ] with 0.9975466 confidence.\n",
            "Token [ . ] is tag [ O ] with 0.99818784 confidence.\n"
          ],
          "name": "stdout"
        },
        {
          "output_type": "stream",
          "text": [
            "\n"
          ],
          "name": "stderr"
        }
      ]
    }
  ]
}